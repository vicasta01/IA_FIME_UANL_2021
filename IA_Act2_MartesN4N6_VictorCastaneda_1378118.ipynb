{
  "nbformat": 4,
  "nbformat_minor": 0,
  "metadata": {
    "colab": {
      "name": "Act2_IA_MartesN4N6_1378118.ipynb",
      "provenance": [],
      "collapsed_sections": [],
      "authorship_tag": "ABX9TyPdt506uCpuWOvhxgZNsFOc"
    },
    "kernelspec": {
      "name": "python3",
      "display_name": "Python 3"
    },
    "language_info": {
      "name": "python"
    }
  },
  "cells": [
    {
      "cell_type": "markdown",
      "metadata": {
        "id": "lLi3vlrgR3Ql"
      },
      "source": [
        "# Actividad 2 - Ejercicios Introducción Python\n",
        "\n",
        "***Alumno:*** Víctor Manuel Castañeda de León  \n",
        "***Matrícula:*** 1378118  \n",
        "***Profesor:*** M.C. Daniel Isaías López Páez  \n",
        "***Materia:*** Inteligencia Artificial  \n",
        "***Hora de clase:*** Martes N4-N6\n"
      ]
    },
    {
      "cell_type": "markdown",
      "metadata": {
        "id": "euHbjgwpawDQ"
      },
      "source": [
        "## Ejercicio 1:\n",
        "\n",
        "Crear un programa que pregunte al usuario por su nombre, edad, una frase favorita y autor de la frase favorita. El programa deberá de imprimir un mensaje compuesto por el nombre y edad del usuario diciendo que su frase favorita es la que dió anteriormente y el autor de dicha frase es el nombre previamente dado. Aquí habrá que realizar una concatenación de variables. "
      ]
    },
    {
      "cell_type": "code",
      "metadata": {
        "colab": {
          "base_uri": "https://localhost:8080/"
        },
        "id": "OpfSwXEDYjVj",
        "outputId": "52468247-dfd3-4dd5-ec11-64f7a804a4e0"
      },
      "source": [
        "# Inicio del programa\n",
        "print(\"Ejercicio 1. Concatenación de variables.\")\n",
        "\n",
        "# Recabación de datos y definición de variables.\n",
        "name = input(\"\\nIngresa tu primer nombre: \")\n",
        "age = input(\"Ahora ingresa tu edad en años: \")\n",
        "quote = input(\"Escribe tu frase favorita: \")\n",
        "author = input(\"¿Quién es el autor de la frase?: \")\n",
        "\n",
        "#Impresión de mensaje según las instrucciones, utilizando concatenación de variables.\n",
        "# print(\"\\n¡Hola,\", name,\"! A tus\", age,\"años, tu frase favorita es: '\", quote, \"', creada por\", author, \".\")\n",
        "print(\"\\n¡Hola, \" + name + \"! \" +  \"A tus \" + age + \" años de edad, tu frase favorita es: '\" + quote + \"', creada por \" + author + \".\")\n",
        "\n",
        "# Fin del programa"
      ],
      "execution_count": 75,
      "outputs": [
        {
          "output_type": "stream",
          "name": "stdout",
          "text": [
            "Ejercicio 1. Concatenación de variables.\n",
            "\n",
            "Ingresa tu primer nombre: Víctor\n",
            "Ahora ingresa tu edad en años: 31\n",
            "Escribe tu frase favorita: Errare humanum est\n",
            "¿Quién es el autor de la frase?: Desconocido\n",
            "\n",
            "¡Hola, Víctor! A tus 31 años de edad, tu frase favorita es: 'Errare humanum est', creada por Desconocido.\n"
          ]
        }
      ]
    },
    {
      "cell_type": "markdown",
      "metadata": {
        "id": "3EbfHH5uhLuF"
      },
      "source": [
        "## Ejercicio 2:\n",
        "\n",
        "Crear un programa que le pida al usuario capturar dos números enteros y dos números flotantes. Después, realizará la suma, resta, multiplicación y división, de ambos pares de números. Como resultado se deberán de obtener 8 valores. Imprimir todos estos reultados."
      ]
    },
    {
      "cell_type": "code",
      "metadata": {
        "colab": {
          "base_uri": "https://localhost:8080/"
        },
        "id": "rrvB2BaNhQqf",
        "outputId": "f7409c72-bd67-4a6e-a424-13e14e307538"
      },
      "source": [
        "# Inicio del programa\n",
        "print(\"Ejercicio 2. Operaciones matemáticas.\")\n",
        "\n",
        "print(\"\\nIngresa un número entero\") # Se utiliza \\n para introducir un salto de línea\n",
        "e1 = int(input()) # Se utiliza int para definir el número introducido como entero\n",
        "print(\"Ingresa otro número entero\")\n",
        "e2 = int(input())\n",
        "print(\"Ahora ingresa un número con decimales.\")\n",
        "f1 = float(input()) # Se utiliza float para definir el número como flotante\n",
        "print(\"Ingresa otro número con decimales.\")\n",
        "f2 = float(input())\n",
        "\n",
        "print(\"\\nNúmeros ingresados:\", e1 , \",\" , e2 , \",\" , f1 , \",\" , f2) # Para imprimir los números ingresados y sirva para validar los resultados.\n",
        "\n",
        "# Operación suma\n",
        "s1 = e1 + e2\n",
        "s2 = f1 + f2\n",
        "\n",
        "# Operación resta\n",
        "r1 = e1 - e2\n",
        "r2 = f1 - f2\n",
        "\n",
        "# Operación multiplicación\n",
        "m1 = e1 * e2\n",
        "m2 = f1 * f2\n",
        "\n",
        "# Operación división\n",
        "d1 = e1 / e2\n",
        "d2 = f1 / f2\n",
        "\n",
        "# Impresión de resultados\n",
        "print(\"\\nLa suma de los números enteros es: \", s1)\n",
        "print(\"La suma de los números flotantes es: \", s2)\n",
        "\n",
        "print(\"\\nLa resta de los números enteros es: \", r1)\n",
        "print(\"La resta de los números flotantes es: \", r2)\n",
        "\n",
        "print(\"\\nLa multiplicación de los números enteros es: \", m1)\n",
        "print(\"La multiplicación de los números flotantes es: \", m2)\n",
        "\n",
        "print(\"\\nLa división de los números enteros es: \", d1)\n",
        "print(\"La división de los números flotantes es: \", d2)\n",
        "\n",
        "print(\"\\nEjercicio 2 ejecutado exitosamente.\")\n",
        "# Fin del programa"
      ],
      "execution_count": 69,
      "outputs": [
        {
          "output_type": "stream",
          "name": "stdout",
          "text": [
            "Ejercicio 2. Operaciones matemáticas.\n",
            "\n",
            "Ingresa un número entero\n",
            "-3\n",
            "Ingresa otro número entero\n",
            "42\n",
            "Ahora ingresa un número con decimales.\n",
            "-3.14\n",
            "Ingresa otro número con decimales.\n",
            "-6.36\n",
            "\n",
            "Números ingresados: -3 , 42 , -3.14 , -6.36\n",
            "\n",
            "La suma de los números enteros es:  39\n",
            "La suma de los números flotantes es:  -9.5\n",
            "\n",
            "La resta de los números enteros es:  -45\n",
            "La resta de los números flotantes es:  3.22\n",
            "\n",
            "La multiplicación de los números enteros es:  -126\n",
            "La multiplicación de los números flotantes es:  19.9704\n",
            "\n",
            "La división de los números enteros es:  -0.07142857142857142\n",
            "La división de los números flotantes es:  0.4937106918238994\n",
            "\n",
            "Ejercicio 2 ejecutado exitosamente.\n"
          ]
        }
      ]
    },
    {
      "cell_type": "markdown",
      "metadata": {
        "id": "kd6YkG1uha29"
      },
      "source": [
        "## Ejercicio 3:\n",
        "\n",
        "Crear un programa que evalúe dos expresiones lógicas con `and`, dos con `or` y dos con `not`. Cada expresión deberá hacer uso de operadores de comparación. "
      ]
    },
    {
      "cell_type": "code",
      "metadata": {
        "colab": {
          "base_uri": "https://localhost:8080/"
        },
        "id": "ZGyCQnaWhycq",
        "outputId": "34dccdba-f337-4a6b-ae94-074c9b9761ed"
      },
      "source": [
        "# Inicio del programa\n",
        "print(\"Ejercicio 3. Expresiones lógicas.\")\n",
        "\n",
        "print(\"\\nLos números enteros introducidos en el Ejercicio 2:\", e1, \"y\", e2, \", ¿son positivos o negativos?\")\n",
        "\n",
        "if (e1 > 0) and (e2 > 0): # La compuerta and arroja True sólo si ambos enunciados son verdaderos\n",
        "  print(\"R = Ambos son positivos.\")\n",
        "\n",
        "elif (e1 < 0) and (e2 > 0):\n",
        "  print(\"R = El primer número es negativo, el segundo es positivo.\")\n",
        "\n",
        "elif (e1 > 0) and (e2 < 0):\n",
        "  print(\"R = El primer número es positivo, el segundo es negativo.\")\n",
        "\n",
        "elif (e1 == 0) or (e2 == 0): \n",
        "  print(\"R = Uno o ambos números son cero.\")\n",
        "\n",
        "else:\n",
        "  print(\"R = Ambos son negativos.\")\n",
        "\n",
        "print(\"\\nLos números introducidos en el Ejercicio 2:\", e1, \",\", e2, \",\", f1, \"y\", f2, \", ¿son positivos o negativos?\")\n",
        "\n",
        "if (e1 < 0) or (e2 < 0) or (f1 < 0) or (f2 < 0): # La compuerta or arroja True si cualquier condición se cumple\n",
        "  print(\"R = Al menos uno de los números es negativo.\")\n",
        "\n",
        "else:\n",
        "  print(\"R = Todos los números son positivos.\")\n",
        "\n",
        "print(\"\\nEl inverso de la suma de los números enteros (=\", s1, \") ¿es mayor que la división de estos (=\", d1, \")?\")\n",
        "print(\"R = Así es.\") if not s1 > d1 else print(\"R = No lo es.\") # Se usa not para calcular el inverso de la variable\n",
        "\n",
        "print(\"\\nEl resultado de la multiplicación de los números flotantes (=\", m2, \") ¿es menor que el inverso de la multiplicación de los números enteros (=\", m1, \")?.\")\n",
        "print(\"R = Así es.\") if not m1 > m2 else print(\"R = No lo es.\")\n",
        "\n",
        "print(\"\\nEjercicio 3 ejecutado exitosamente.\")\n",
        "# Fin del programa"
      ],
      "execution_count": 77,
      "outputs": [
        {
          "output_type": "stream",
          "name": "stdout",
          "text": [
            "Ejercicio 3. Expresiones lógicas.\n",
            "\n",
            "Los números enteros introducidos en el Ejercicio 2: -3 y 42 , ¿son positivos o negativos?\n",
            "R = El primer número es negativo, el segundo es positivo.\n",
            "\n",
            "Los números introducidos en el Ejercicio 2: -3 , 42 , -3.14 y -6.36 , ¿son positivos o negativos?\n",
            "R = Al menos uno de los números es negativo.\n",
            "\n",
            "El inverso de la suma de los números enteros (= 39 ) ¿es mayor que la división de estos (= -0.07142857142857142 )?\n",
            "R = No lo es.\n",
            "\n",
            "El resultado de la multiplicación de los números flotantes (= 19.9704 ) ¿es menor que el inverso de la multiplicación de los números enteros (= -126 )?.\n",
            "R = Así es.\n",
            "\n",
            "Ejercicio 3 ejecutado exitosamente.\n"
          ]
        }
      ]
    }
  ]
}
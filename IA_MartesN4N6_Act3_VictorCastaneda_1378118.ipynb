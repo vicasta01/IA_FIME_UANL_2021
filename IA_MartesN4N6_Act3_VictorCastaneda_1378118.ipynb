{
  "nbformat": 4,
  "nbformat_minor": 0,
  "metadata": {
    "colab": {
      "name": "IA_MartesN4N6_Act3_VictorCastaneda_1378118.ipynb",
      "provenance": [],
      "collapsed_sections": [],
      "authorship_tag": "ABX9TyPaUqO8uIu3TzBTpuIxnR9E",
      "include_colab_link": true
    },
    "kernelspec": {
      "name": "python3",
      "display_name": "Python 3"
    },
    "language_info": {
      "name": "python"
    }
  },
  "cells": [
    {
      "cell_type": "markdown",
      "metadata": {
        "id": "view-in-github",
        "colab_type": "text"
      },
      "source": [
        "<a href=\"https://colab.research.google.com/github/vicasta01/IA_FIME_UANL_2021/blob/LasActividadesVanAqui/IA_MartesN4N6_Act3_VictorCastaneda_1378118.ipynb\" target=\"_parent\"><img src=\"https://colab.research.google.com/assets/colab-badge.svg\" alt=\"Open In Colab\"/></a>"
      ]
    },
    {
      "cell_type": "markdown",
      "metadata": {
        "id": "lLi3vlrgR3Ql"
      },
      "source": [
        "# Actividad 3 - Ejercicios Introducción Python, 2a Parte\n",
        "\n",
        "***Alumno:*** Víctor Manuel Castañeda de León  \n",
        "***Matrícula:*** 1378118  \n",
        "***Profesor:*** M.C. Daniel Isaías López Páez  \n",
        "***Materia:*** Inteligencia Artificial  \n",
        "***Hora de clase:*** Martes N4-N6\n"
      ]
    },
    {
      "cell_type": "markdown",
      "metadata": {
        "id": "euHbjgwpawDQ"
      },
      "source": [
        "## Ejercicio 1:\n",
        "\n",
        "**1.1** - Piensa en 7 comidas diferente que te gusten. Implementa un programa que pregunte por las 7 comidas, las almacene en una lista y que posteriermente imprima cada una de ellas utilizando uno de los ciclos comentados en clase. "
      ]
    },
    {
      "cell_type": "code",
      "metadata": {
        "colab": {
          "base_uri": "https://localhost:8080/"
        },
        "id": "OpfSwXEDYjVj",
        "outputId": "129529c2-1910-4059-a75f-6c1368d309ae"
      },
      "source": [
        "# Inicio del programa\n",
        "print(\"Ejercicio 1. Listas\")\n",
        "\n",
        "food_list = [] # Creación de lista vacía\n",
        "\n",
        "n = 7 # Determinar el número de elementos en la lista\n",
        "\n",
        "# Recolección de datos y relleno de lista.\n",
        "food = input(\"Ingresa una comida que te guste: \") # Instrucción para ingresar el primer elemento\n",
        "food_list.append(food) # Agrega el elemento ingresado al índice 0 de la lista\n",
        "\n",
        "for i in range(1, n): # Solicita al usuario ingresar elementos hasta que se complete n, iniciando en el índice 1\n",
        "    food = input(\"Ingresa otra comida que te guste: \")\n",
        "    food_list.append(food) # Agrega los elementos ingresados a la lista\n",
        "\n",
        "comment = \"\\nLista de comidas que te gustan:\\n\"\n",
        "print(comment, food_list)\n",
        "\n",
        "# Fin del programa"
      ],
      "execution_count": null,
      "outputs": [
        {
          "output_type": "stream",
          "name": "stdout",
          "text": [
            "Ejercicio 1. Listas\n",
            "Ingresa una comida que te guste: Matcha\n",
            "Ingresa otra comida que te guste: Mole\n",
            "Ingresa otra comida que te guste: Chocolate\n",
            "Ingresa otra comida que te guste: Arròs negre\n",
            "Ingresa otra comida que te guste: Jamón serrano\n",
            "Ingresa otra comida que te guste: Cerezas negras\n",
            "Ingresa otra comida que te guste: Pizza\n",
            "\n",
            "Lista de comidas que te gustan:\n",
            " ['Matcha', 'Mole', 'Chocolate', 'Arròs negre', 'Jamón serrano', 'Cerezas negras', 'Pizza']\n"
          ]
        }
      ]
    },
    {
      "cell_type": "markdown",
      "metadata": {
        "id": "PT_Z6YSLfuLp"
      },
      "source": [
        "**1.2** - Modifica el ejercicio 1.1 para que imprima cada una de las comidas favoritas junto con una oración inicial: \"Una de mis comidas favoritas es [comida1]\"."
      ]
    },
    {
      "cell_type": "code",
      "metadata": {
        "id": "_N7-WSi-f1jg",
        "colab": {
          "base_uri": "https://localhost:8080/"
        },
        "outputId": "3275800a-f99e-40b3-baf6-ca8752ae4692"
      },
      "source": [
        "# Inicio del programa\n",
        "print(\"Ejercicio 1.1 Listas.\")\n",
        "\n",
        "sentence = \"\\nUna de mis comidas favoritas es: \" # Guardando la oración deseada en una variable\n",
        "\n",
        "for i in range(n): # Bucle for hasta que se complete n\n",
        "  print(sentence, food_list[i]) # Imprime la variable con cada elemento de la lista ingresada en el ejercicio 1.1\n",
        "\n",
        "print(\"\\n¡Qué antojo!\")\n",
        "\n",
        "# Fin del programa"
      ],
      "execution_count": null,
      "outputs": [
        {
          "output_type": "stream",
          "name": "stdout",
          "text": [
            "Ejercicio 1.1 Listas.\n",
            "\n",
            "Una de mis comidas favoritas es:  Matcha\n",
            "\n",
            "Una de mis comidas favoritas es:  Mole\n",
            "\n",
            "Una de mis comidas favoritas es:  Chocolate\n",
            "\n",
            "Una de mis comidas favoritas es:  Arròs negre\n",
            "\n",
            "Una de mis comidas favoritas es:  Jamón serrano\n",
            "\n",
            "Una de mis comidas favoritas es:  Cerezas negras\n",
            "\n",
            "Una de mis comidas favoritas es:  Pizza\n",
            "\n",
            "¡Qué antojo!\n"
          ]
        }
      ]
    },
    {
      "cell_type": "markdown",
      "metadata": {
        "id": "3EbfHH5uhLuF"
      },
      "source": [
        "## Ejercicio 2:\n",
        "\n",
        "Crear un juego de piedra, papel o tijera de dos jugadores. El programa preguntará por la opción del jugador 1 y la opción del jugador 2 y dará como resultado quien ganó el juego."
      ]
    },
    {
      "cell_type": "code",
      "metadata": {
        "colab": {
          "base_uri": "https://localhost:8080/"
        },
        "id": "rrvB2BaNhQqf",
        "outputId": "ddf4fc2b-f77f-4e57-c0b5-c285e8ec79e0"
      },
      "source": [
        "# Inicio del programa\n",
        "print(\"Ejercicio 2. Piedra, papel o tijera, 2 jugadores.\")\n",
        "\n",
        "while True:\n",
        "\n",
        "  print(\"\\nJugador 1! Escribe 1 para piedra, 2 para papel o 3 para tijera:\") # Instrucción J1\n",
        "  J1 = int(input()) # Se lee y almacena la opción elegida por J1\n",
        "  print(\"\\nJugador 2! Escribe 1 para piedra, 2 para papel o 3 para tijera:\")\n",
        "  J2 = int(input()) # Se lee y almacena la opción elegida por J2\n",
        "\n",
        "  print(\"\\nCrash! Boom! Bam! Puff!\\n\")\n",
        "\n",
        "  # Cálculo e impresión de resultados\n",
        "  if J1 == 1 and J2 == 2:\n",
        "    print(\"Jugador 2, ganaste!\")\n",
        "\n",
        "  elif J1 == 1 and J2 == 3:\n",
        "    print(\"Jugador 1, ganaste!\")\n",
        "\n",
        "  elif J1 == 2 and J2 == 1:\n",
        "    print(\"Jugador 1, ganaste!\")\n",
        "\n",
        "  elif J1 == 2 and J2 == 3:\n",
        "    print(\"Jugador 2, ganaste!\")\n",
        "\n",
        "  elif J1 == 3 and J2 == 1:\n",
        "    print(\"Jugador 2, ganaste!\")\n",
        "    \n",
        "  elif J1 == 3 and J2 == 2:\n",
        "    print(\"Jugador 1, ganaste!\")\n",
        "\n",
        "  elif (J1 <= 0) or (J2 <= 0) or (J1 >= 4) or (J2 >= 4): # En caso de elementos fuera de rango\n",
        "    print(\"Error, elige una opcion correcta.\")\n",
        "\n",
        "  else:\n",
        "    print(\"Empate!\")\n",
        "\n",
        "  repetir = input(\"\\nJugar de nuevo? (si/no): \") # Para repetir el juego, mientras que no se escriba \"no\", el while sigue siendo True\n",
        "  \n",
        "  if repetir == \"no\":\n",
        "    print(\"\\nFin del juego.\")\n",
        "    break\n",
        "\n",
        "# Fin del programa"
      ],
      "execution_count": 64,
      "outputs": [
        {
          "output_type": "stream",
          "name": "stdout",
          "text": [
            "Ejercicio 2. Piedra, papel o tijera, 2 jugadores.\n",
            "\n",
            "Jugador 1! Escribe 1 para piedra, 2 para papel o 3 para tijera:\n",
            "1\n",
            "\n",
            "Jugador 2! Escribe 1 para piedra, 2 para papel o 3 para tijera:\n",
            "3\n",
            "\n",
            "Crash! Boom! Bam! Puff!\n",
            "\n",
            "Jugador 1, ganaste!\n",
            "\n",
            "Jugar de nuevo? (si/no): si\n",
            "\n",
            "Jugador 1! Escribe 1 para piedra, 2 para papel o 3 para tijera:\n",
            "5\n",
            "\n",
            "Jugador 2! Escribe 1 para piedra, 2 para papel o 3 para tijera:\n",
            "2\n",
            "\n",
            "Crash! Boom! Bam! Puff!\n",
            "\n",
            "Error, elige una opcion correcta.\n",
            "\n",
            "Jugar de nuevo? (si/no): no\n",
            "\n",
            "Fin del juego.\n"
          ]
        }
      ]
    },
    {
      "cell_type": "markdown",
      "metadata": {
        "id": "kd6YkG1uha29"
      },
      "source": [
        "## Ejercicio 3:\n",
        "\n",
        "Implementar un programa que imprima el siguiente patron:\n",
        "\n",
        "123456  \n",
        "12345  \n",
        "1234  \n",
        "123  \n",
        "12  \n",
        "1  \n",
        "12  \n",
        "123  \n",
        "1234  \n",
        "12345  \n",
        "123456"
      ]
    },
    {
      "cell_type": "code",
      "metadata": {
        "colab": {
          "base_uri": "https://localhost:8080/"
        },
        "id": "ZGyCQnaWhycq",
        "outputId": "043c628d-2672-48c7-8181-b351fd662f73"
      },
      "source": [
        "# Inicio del programa\n",
        "print(\"Ejercicio 3. Impresión de patrón.\")\n",
        "\n",
        "# Patrón descendente\n",
        "for i in range (6, 0, -1): # Imprime las filas disminuyéndo 1 posición por iteración\n",
        "  for j in range (1, i+1): # Imprime el número de la columna\n",
        "    print(j, end=\"\")\n",
        "  print(\"\")\n",
        "\n",
        "# Patrón ascendente\n",
        "for i in range (2,7): # Imprime las filas, iniciando desde la segunda para evitar repetir el número 1\n",
        "  for j in range (1, i+1): # Imprime el número de la columna incrementándose hasta alcanzar i = 7\n",
        "    print(j, end=\"\") # Imprime los valores en forma horizontal y dejando un espacio entre cada uno\n",
        "  print(\"\")\n",
        "\n",
        "# Fin del programa"
      ],
      "execution_count": 97,
      "outputs": [
        {
          "output_type": "stream",
          "name": "stdout",
          "text": [
            "Ejercicio 3. Impresión de patrón.\n",
            "123456\n",
            "12345\n",
            "1234\n",
            "123\n",
            "12\n",
            "1\n",
            "12\n",
            "123\n",
            "1234\n",
            "12345\n",
            "123456\n"
          ]
        }
      ]
    }
  ]
}
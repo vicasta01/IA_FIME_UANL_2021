{
  "nbformat": 4,
  "nbformat_minor": 0,
  "metadata": {
    "colab": {
      "name": "IA_MartesN4N6_ExMedioCurso_VictorCastaneda_1378118.ipynb",
      "provenance": [],
      "collapsed_sections": [],
      "authorship_tag": "ABX9TyOTpDhwNghqmEWXcoFqgrEr",
      "include_colab_link": true
    },
    "kernelspec": {
      "name": "python3",
      "display_name": "Python 3"
    },
    "language_info": {
      "name": "python"
    }
  },
  "cells": [
    {
      "cell_type": "markdown",
      "metadata": {
        "id": "view-in-github",
        "colab_type": "text"
      },
      "source": [
        "<a href=\"https://colab.research.google.com/github/vicasta01/IA_FIME_UANL_2021/blob/main/Examen-Medio-Curso-IA/IA_MartesN4N6_ExMedioCurso_VictorCastaneda_1378118.ipynb\" target=\"_parent\"><img src=\"https://colab.research.google.com/assets/colab-badge.svg\" alt=\"Open In Colab\"/></a>"
      ]
    },
    {
      "cell_type": "markdown",
      "metadata": {
        "id": "lLi3vlrgR3Ql"
      },
      "source": [
        "# Examen Medio Curso\n",
        "\n",
        "***Alumno:*** Víctor Manuel Castañeda de León  \n",
        "***Matrícula:*** 1378118  \n",
        "***Profesor:*** M.C. Daniel Isaías López Páez  \n",
        "***Materia:*** Inteligencia Artificial  \n",
        "***Hora de clase:*** Martes N4-N6\n"
      ]
    },
    {
      "cell_type": "markdown",
      "metadata": {
        "id": "euHbjgwpawDQ"
      },
      "source": [
        "## Ejercicio 1:\n",
        "\n",
        "**1.1** - El usuario dará un número al azar y el código calculará la suma de todos los números desde el 1 hasta el número dado por el usuario.\n",
        "Ejemplo: el usuario dió el número 4, el código deberá de dar como resultado 10. "
      ]
    },
    {
      "cell_type": "code",
      "metadata": {
        "colab": {
          "base_uri": "https://localhost:8080/"
        },
        "id": "OpfSwXEDYjVj",
        "outputId": "be0b85d2-6bf4-4516-c67c-2b023fdea564"
      },
      "source": [
        "# Inicio del programa\n",
        "print(\"Ejercicio 1.1 - Suma\")\n",
        "\n",
        "# Recolección de datos y relleno de lista.\n",
        "num = int(input(\"Ingresa un número entero cualquiera: \")) # Instrucción para ingresar el número a utilizar para el programa\n",
        "sum = 0 # Para inicializar la variable sum en 0\n",
        "\n",
        "for i in range(1, num + 1): # Función for para iterar hasta que se alcance el número ingresado \n",
        "    sum = sum + i # Operación para sumar todos los enteros desde 1 hasta el número ingresado\n",
        "\n",
        "comment = \"\\nSuma de todos los números enteros desde el 1 hasta el número ingresado: \"\n",
        "print(comment, sum)\n",
        "\n",
        "# Fin del programa"
      ],
      "execution_count": 10,
      "outputs": [
        {
          "output_type": "stream",
          "name": "stdout",
          "text": [
            "Ejercicio 1.1 - Suma\n",
            "Ingresa un número entero cualquiera: 99\n",
            "\n",
            "Suma de todos los números enteros desde el 1 hasta el número ingresado:  4950\n"
          ]
        }
      ]
    },
    {
      "cell_type": "markdown",
      "metadata": {
        "id": "PT_Z6YSLfuLp"
      },
      "source": [
        "**1.2** - Dados el inicio y final de un rango de números, guardar ese rango de números en una lista. Después, imprimir los números que son pares en la lista por medio de uno de los ciclos que vimos en clase. \n",
        "Inicio = 6, final = 31."
      ]
    },
    {
      "cell_type": "code",
      "metadata": {
        "id": "_N7-WSi-f1jg",
        "colab": {
          "base_uri": "https://localhost:8080/"
        },
        "outputId": "4a057803-2451-448e-89aa-3a217ceaaec4"
      },
      "source": [
        "# Inicio del programa\n",
        "print(\"Ejercicio 1.2 Listas.\")\n",
        "\n",
        "sentence = \"\\nNúmeros pares en el rango de enteros dado (6-31): \\n\" # Guardando la oración de salida en una variable\n",
        "lista_full = list(range(6, 31+1)) # Para crear una lista con el rango de enteros dado\n",
        "\n",
        "print(sentence) # Comentario de salida\n",
        "\n",
        "for num in lista_full: # Bucle for para la lista creada anteriormente\n",
        "  if num % 2 == 0: # Condición utilizando el operador módulo para obtener los números pares en la lista\n",
        "    print(num, end=\" \")\n",
        "\n",
        "# Fin del programa"
      ],
      "execution_count": 37,
      "outputs": [
        {
          "output_type": "stream",
          "name": "stdout",
          "text": [
            "Ejercicio 1.2 Listas.\n",
            "\n",
            "Números pares en el rango de enteros dado (6-31): \n",
            "\n",
            "6 8 10 12 14 16 18 20 22 24 26 28 30 "
          ]
        }
      ]
    }
  ]
}